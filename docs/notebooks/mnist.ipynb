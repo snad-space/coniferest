{
 "cells": [
  {
   "cell_type": "markdown",
   "id": "c09c5b6751161422",
   "metadata": {
    "collapsed": false,
    "jupyter": {
     "outputs_hidden": false
    }
   },
   "source": [
    "![snad_logo_3.png](data:image/png;base64,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)\n",
    "\n",
    "# MNIST dataset\n",
    "\n",
    "This notebook gives an example of Active Anomaly Detection with `coniferest` and [MNIST](https://en.wikipedia.org/wiki/MNIST_database) dataset.\n",
    "\n",
    "Developers of `conferest`:\n",
    "- [Matwey Kornilov (MSU)](https://matwey.name)\n",
    "- [Vladimir Korolev](https://www.linkedin.com/in/vladimir-korolev-a4195b86/)\n",
    "- [Konstantin Malanchev (LINCC Frameworks / CMU)](https://homb.it), notebook author"
   ]
  },
  {
   "cell_type": "markdown",
   "id": "9d253b06-f0eb-422a-9361-4f612740b648",
   "metadata": {},
   "source": [
    "**[Run this NB in Google Colab](https://colab.research.google.com/github/snad-space/coniferest/blob/master/docs/notebooks/mnist.ipynb)**"
   ]
  },
  {
   "cell_type": "code",
   "id": "667d45495a1937d4",
   "metadata": {
    "jupyter": {
     "outputs_hidden": false
    },
    "ExecuteTime": {
     "end_time": "2025-10-17T17:48:05.315838Z",
     "start_time": "2025-10-17T17:48:05.313045Z"
    }
   },
   "source": [
    "## Install and import the required libraries"
   ],
   "outputs": [],
   "execution_count": 1
  },
  {
   "cell_type": "code",
   "id": "d83297862828bda3",
   "metadata": {
    "jupyter": {
     "outputs_hidden": false
    },
    "ExecuteTime": {
     "end_time": "2025-10-17T17:48:06.719397Z",
     "start_time": "2025-10-17T17:48:05.319479Z"
    }
   },
   "source": [
    "# Install packages\n",
    "%pip install coniferest\n",
    "%pip install datasets"
   ],
   "outputs": [
    {
     "name": "stdout",
     "output_type": "stream",
     "text": [
      "Requirement already satisfied: coniferest in /Users/hombit/projects/supernovaAD/coniferest (0.0.11)\r\n",
      "Requirement already satisfied: click in /Users/hombit/.virtualenvs/coniferest/lib/python3.12/site-packages (from coniferest) (8.2.1)\r\n",
      "Requirement already satisfied: joblib in /Users/hombit/.virtualenvs/coniferest/lib/python3.12/site-packages (from coniferest) (1.5.1)\r\n",
      "Requirement already satisfied: numpy in /Users/hombit/.virtualenvs/coniferest/lib/python3.12/site-packages (from coniferest) (2.3.1)\r\n",
      "Requirement already satisfied: scikit-learn<2,>=1 in /Users/hombit/.virtualenvs/coniferest/lib/python3.12/site-packages (from coniferest) (1.7.0)\r\n",
      "Requirement already satisfied: matplotlib in /Users/hombit/.virtualenvs/coniferest/lib/python3.12/site-packages (from coniferest) (3.10.3)\r\n",
      "Requirement already satisfied: onnxconverter-common in /Users/hombit/.virtualenvs/coniferest/lib/python3.12/site-packages (from coniferest) (1.14.0)\r\n",
      "Requirement already satisfied: scipy>=1.8.0 in /Users/hombit/.virtualenvs/coniferest/lib/python3.12/site-packages (from scikit-learn<2,>=1->coniferest) (1.16.0)\r\n",
      "Requirement already satisfied: threadpoolctl>=3.1.0 in /Users/hombit/.virtualenvs/coniferest/lib/python3.12/site-packages (from scikit-learn<2,>=1->coniferest) (3.6.0)\r\n",
      "Requirement already satisfied: contourpy>=1.0.1 in /Users/hombit/.virtualenvs/coniferest/lib/python3.12/site-packages (from matplotlib->coniferest) (1.3.2)\r\n",
      "Requirement already satisfied: cycler>=0.10 in /Users/hombit/.virtualenvs/coniferest/lib/python3.12/site-packages (from matplotlib->coniferest) (0.12.1)\r\n",
      "Requirement already satisfied: fonttools>=4.22.0 in /Users/hombit/.virtualenvs/coniferest/lib/python3.12/site-packages (from matplotlib->coniferest) (4.58.4)\r\n",
      "Requirement already satisfied: kiwisolver>=1.3.1 in /Users/hombit/.virtualenvs/coniferest/lib/python3.12/site-packages (from matplotlib->coniferest) (1.4.8)\r\n",
      "Requirement already satisfied: packaging>=20.0 in /Users/hombit/.virtualenvs/coniferest/lib/python3.12/site-packages (from matplotlib->coniferest) (25.0)\r\n",
      "Requirement already satisfied: pillow>=8 in /Users/hombit/.virtualenvs/coniferest/lib/python3.12/site-packages (from matplotlib->coniferest) (11.2.1)\r\n",
      "Requirement already satisfied: pyparsing>=2.3.1 in /Users/hombit/.virtualenvs/coniferest/lib/python3.12/site-packages (from matplotlib->coniferest) (3.2.3)\r\n",
      "Requirement already satisfied: python-dateutil>=2.7 in /Users/hombit/.virtualenvs/coniferest/lib/python3.12/site-packages (from matplotlib->coniferest) (2.9.0.post0)\r\n",
      "Requirement already satisfied: six>=1.5 in /Users/hombit/.virtualenvs/coniferest/lib/python3.12/site-packages (from python-dateutil>=2.7->matplotlib->coniferest) (1.17.0)\r\n",
      "Requirement already satisfied: onnx in /Users/hombit/.virtualenvs/coniferest/lib/python3.12/site-packages (from onnxconverter-common->coniferest) (1.17.0)\r\n",
      "Requirement already satisfied: protobuf==3.20.2 in /Users/hombit/.virtualenvs/coniferest/lib/python3.12/site-packages (from onnxconverter-common->coniferest) (3.20.2)\r\n",
      "Note: you may need to restart the kernel to use updated packages.\n",
      "Requirement already satisfied: datasets in /Users/hombit/.virtualenvs/coniferest/lib/python3.12/site-packages (3.6.0)\r\n",
      "Requirement already satisfied: filelock in /Users/hombit/.virtualenvs/coniferest/lib/python3.12/site-packages (from datasets) (3.18.0)\r\n",
      "Requirement already satisfied: numpy>=1.17 in /Users/hombit/.virtualenvs/coniferest/lib/python3.12/site-packages (from datasets) (2.3.1)\r\n",
      "Requirement already satisfied: pyarrow>=15.0.0 in /Users/hombit/.virtualenvs/coniferest/lib/python3.12/site-packages (from datasets) (20.0.0)\r\n",
      "Requirement already satisfied: dill<0.3.9,>=0.3.0 in /Users/hombit/.virtualenvs/coniferest/lib/python3.12/site-packages (from datasets) (0.3.8)\r\n",
      "Requirement already satisfied: pandas in /Users/hombit/.virtualenvs/coniferest/lib/python3.12/site-packages (from datasets) (2.3.0)\r\n",
      "Requirement already satisfied: requests>=2.32.2 in /Users/hombit/.virtualenvs/coniferest/lib/python3.12/site-packages (from datasets) (2.32.4)\r\n",
      "Requirement already satisfied: tqdm>=4.66.3 in /Users/hombit/.virtualenvs/coniferest/lib/python3.12/site-packages (from datasets) (4.67.1)\r\n",
      "Requirement already satisfied: xxhash in /Users/hombit/.virtualenvs/coniferest/lib/python3.12/site-packages (from datasets) (3.5.0)\r\n",
      "Requirement already satisfied: multiprocess<0.70.17 in /Users/hombit/.virtualenvs/coniferest/lib/python3.12/site-packages (from datasets) (0.70.16)\r\n",
      "Requirement already satisfied: fsspec<=2025.3.0,>=2023.1.0 in /Users/hombit/.virtualenvs/coniferest/lib/python3.12/site-packages (from fsspec[http]<=2025.3.0,>=2023.1.0->datasets) (2025.3.0)\r\n",
      "Requirement already satisfied: huggingface-hub>=0.24.0 in /Users/hombit/.virtualenvs/coniferest/lib/python3.12/site-packages (from datasets) (0.33.0)\r\n",
      "Requirement already satisfied: packaging in /Users/hombit/.virtualenvs/coniferest/lib/python3.12/site-packages (from datasets) (25.0)\r\n",
      "Requirement already satisfied: pyyaml>=5.1 in /Users/hombit/.virtualenvs/coniferest/lib/python3.12/site-packages (from datasets) (6.0.2)\r\n",
      "Requirement already satisfied: aiohttp!=4.0.0a0,!=4.0.0a1 in /Users/hombit/.virtualenvs/coniferest/lib/python3.12/site-packages (from fsspec[http]<=2025.3.0,>=2023.1.0->datasets) (3.12.13)\r\n",
      "Requirement already satisfied: aiohappyeyeballs>=2.5.0 in /Users/hombit/.virtualenvs/coniferest/lib/python3.12/site-packages (from aiohttp!=4.0.0a0,!=4.0.0a1->fsspec[http]<=2025.3.0,>=2023.1.0->datasets) (2.6.1)\r\n",
      "Requirement already satisfied: aiosignal>=1.1.2 in /Users/hombit/.virtualenvs/coniferest/lib/python3.12/site-packages (from aiohttp!=4.0.0a0,!=4.0.0a1->fsspec[http]<=2025.3.0,>=2023.1.0->datasets) (1.3.2)\r\n",
      "Requirement already satisfied: attrs>=17.3.0 in /Users/hombit/.virtualenvs/coniferest/lib/python3.12/site-packages (from aiohttp!=4.0.0a0,!=4.0.0a1->fsspec[http]<=2025.3.0,>=2023.1.0->datasets) (25.3.0)\r\n",
      "Requirement already satisfied: frozenlist>=1.1.1 in /Users/hombit/.virtualenvs/coniferest/lib/python3.12/site-packages (from aiohttp!=4.0.0a0,!=4.0.0a1->fsspec[http]<=2025.3.0,>=2023.1.0->datasets) (1.7.0)\r\n",
      "Requirement already satisfied: multidict<7.0,>=4.5 in /Users/hombit/.virtualenvs/coniferest/lib/python3.12/site-packages (from aiohttp!=4.0.0a0,!=4.0.0a1->fsspec[http]<=2025.3.0,>=2023.1.0->datasets) (6.4.4)\r\n",
      "Requirement already satisfied: propcache>=0.2.0 in /Users/hombit/.virtualenvs/coniferest/lib/python3.12/site-packages (from aiohttp!=4.0.0a0,!=4.0.0a1->fsspec[http]<=2025.3.0,>=2023.1.0->datasets) (0.3.2)\r\n",
      "Requirement already satisfied: yarl<2.0,>=1.17.0 in /Users/hombit/.virtualenvs/coniferest/lib/python3.12/site-packages (from aiohttp!=4.0.0a0,!=4.0.0a1->fsspec[http]<=2025.3.0,>=2023.1.0->datasets) (1.20.1)\r\n",
      "Requirement already satisfied: idna>=2.0 in /Users/hombit/.virtualenvs/coniferest/lib/python3.12/site-packages (from yarl<2.0,>=1.17.0->aiohttp!=4.0.0a0,!=4.0.0a1->fsspec[http]<=2025.3.0,>=2023.1.0->datasets) (3.10)\r\n",
      "Requirement already satisfied: typing-extensions>=3.7.4.3 in /Users/hombit/.virtualenvs/coniferest/lib/python3.12/site-packages (from huggingface-hub>=0.24.0->datasets) (4.14.0)\r\n",
      "Requirement already satisfied: hf-xet<2.0.0,>=1.1.2 in /Users/hombit/.virtualenvs/coniferest/lib/python3.12/site-packages (from huggingface-hub>=0.24.0->datasets) (1.1.4)\r\n",
      "Requirement already satisfied: charset_normalizer<4,>=2 in /Users/hombit/.virtualenvs/coniferest/lib/python3.12/site-packages (from requests>=2.32.2->datasets) (3.4.2)\r\n",
      "Requirement already satisfied: urllib3<3,>=1.21.1 in /Users/hombit/.virtualenvs/coniferest/lib/python3.12/site-packages (from requests>=2.32.2->datasets) (2.4.0)\r\n",
      "Requirement already satisfied: certifi>=2017.4.17 in /Users/hombit/.virtualenvs/coniferest/lib/python3.12/site-packages (from requests>=2.32.2->datasets) (2025.6.15)\r\n",
      "Requirement already satisfied: python-dateutil>=2.8.2 in /Users/hombit/.virtualenvs/coniferest/lib/python3.12/site-packages (from pandas->datasets) (2.9.0.post0)\r\n",
      "Requirement already satisfied: pytz>=2020.1 in /Users/hombit/.virtualenvs/coniferest/lib/python3.12/site-packages (from pandas->datasets) (2025.2)\r\n",
      "Requirement already satisfied: tzdata>=2022.7 in /Users/hombit/.virtualenvs/coniferest/lib/python3.12/site-packages (from pandas->datasets) (2025.2)\r\n",
      "Requirement already satisfied: six>=1.5 in /Users/hombit/.virtualenvs/coniferest/lib/python3.12/site-packages (from python-dateutil>=2.8.2->pandas->datasets) (1.17.0)\r\n",
      "Note: you may need to restart the kernel to use updated packages.\n"
     ]
    }
   ],
   "execution_count": 2
  },
  {
   "cell_type": "code",
   "id": "424af44173f02c22",
   "metadata": {
    "jupyter": {
     "outputs_hidden": false
    },
    "ExecuteTime": {
     "end_time": "2025-10-17T17:48:08.502342Z",
     "start_time": "2025-10-17T17:48:06.762498Z"
    }
   },
   "source": [
    "import datasets\n",
    "import matplotlib.pyplot as plt\n",
    "import numpy as np\n",
    "\n",
    "from coniferest.isoforest import IsolationForest\n",
    "from coniferest.pineforest import PineForest\n",
    "from coniferest.session import Session\n",
    "from coniferest.session.callback import TerminateAfter, prompt_decision_callback, Label"
   ],
   "outputs": [
    {
     "name": "stderr",
     "output_type": "stream",
     "text": [
      "/Users/hombit/.virtualenvs/coniferest/lib/python3.12/site-packages/tqdm/auto.py:21: TqdmWarning: IProgress not found. Please update jupyter and ipywidgets. See https://ipywidgets.readthedocs.io/en/stable/user_install.html\n",
      "  from .autonotebook import tqdm as notebook_tqdm\n"
     ]
    }
   ],
   "execution_count": 3
  },
  {
   "cell_type": "markdown",
   "id": "a2dd4922808bfdf2",
   "metadata": {
    "collapsed": false,
    "jupyter": {
     "outputs_hidden": false
    }
   },
   "source": [
    "## Download and load the MNIST dataset"
   ]
  },
  {
   "cell_type": "markdown",
   "id": "8f63177054a31722",
   "metadata": {
    "collapsed": false,
    "jupyter": {
     "outputs_hidden": false
    }
   },
   "source": [
    "Download data from Hugging Faces with `datasets` library"
   ]
  },
  {
   "cell_type": "code",
   "id": "b54d353b5b1e296e",
   "metadata": {
    "jupyter": {
     "outputs_hidden": false
    },
    "ExecuteTime": {
     "end_time": "2025-10-17T17:48:12.637887Z",
     "start_time": "2025-10-17T17:48:08.511713Z"
    }
   },
   "source": [
    "mnist = datasets.load_dataset(\"mnist\")"
   ],
   "outputs": [
    {
     "name": "stderr",
     "output_type": "stream",
     "text": [
      "Generating train split: 100%|██████████| 60000/60000 [00:00<00:00, 953196.75 examples/s]\n",
      "Generating test split: 100%|██████████| 10000/10000 [00:00<00:00, 885902.21 examples/s]\n"
     ]
    }
   ],
   "execution_count": 4
  },
  {
   "cell_type": "markdown",
   "id": "d64f3cb6c02e79ec",
   "metadata": {
    "collapsed": false,
    "jupyter": {
     "outputs_hidden": false
    }
   },
   "source": [
    "Load the data into numpy arrays"
   ]
  },
  {
   "cell_type": "code",
   "id": "b663431e29a7a250",
   "metadata": {
    "jupyter": {
     "outputs_hidden": false
    },
    "ExecuteTime": {
     "end_time": "2025-10-17T17:48:14.779042Z",
     "start_time": "2025-10-17T17:48:12.649263Z"
    }
   },
   "source": [
    "images_train = np.asarray(mnist['train']['image'])\n",
    "images_test = np.asarray(mnist['test']['image'])\n",
    "digits_train = np.asarray(mnist['train']['label'])\n",
    "digits_test = np.asarray(mnist['test']['label'])\n",
    "\n",
    "images = np.concatenate([images_train, images_test])\n",
    "digits = np.concatenate([digits_train, digits_test])"
   ],
   "outputs": [],
   "execution_count": 5
  },
  {
   "cell_type": "markdown",
   "id": "4456d1bd107b2666",
   "metadata": {
    "collapsed": false,
    "jupyter": {
     "outputs_hidden": false
    }
   },
   "source": [
    "Plot some examples"
   ]
  },
  {
   "cell_type": "code",
   "id": "e9118c00dff72504",
   "metadata": {
    "jupyter": {
     "outputs_hidden": false
    },
    "ExecuteTime": {
     "end_time": "2025-10-17T17:48:14.948935Z",
     "start_time": "2025-10-17T17:48:14.783704Z"
    }
   },
   "source": [
    "fig, ax = plt.subplots(2, 5, figsize=(10, 5))\n",
    "for i in range(10):\n",
    "    ax[i // 5, i % 5].imshow(images[digits == i][0], cmap='gray')\n",
    "    ax[i // 5, i % 5].set_title(f'Digit {i}')\n",
    "    ax[i // 5, i % 5].axis('off')"
   ],
   "outputs": [
    {
     "data": {
      "text/plain": [
       "<Figure size 1000x500 with 10 Axes>"
      ],
      "image/png": "[encoded data removed]"
     },
     "metadata": {},
     "output_type": "display_data",
     "jetTransient": {
      "display_id": null
     }
    }
   ],
   "execution_count": 6
  },
  {
   "cell_type": "markdown",
   "id": "2b61fc3ddf5accad",
   "metadata": {
    "collapsed": false,
    "jupyter": {
     "outputs_hidden": false
    }
   },
   "source": [
    "## Preprocess the data"
   ]
  },
  {
   "cell_type": "markdown",
   "id": "ae46720ef1c05ef9",
   "metadata": {
    "collapsed": false,
    "jupyter": {
     "outputs_hidden": false
    }
   },
   "source": [
    "Select the data to use:\n",
    "- `image` : the original images\n",
    "- `fft` : the power spectrum of the images\n",
    "- `both` : the original images and the power spectrum together"
   ]
  },
  {
   "cell_type": "code",
   "id": "aa5f1619f4c31db6",
   "metadata": {
    "jupyter": {
     "outputs_hidden": false
    },
    "ExecuteTime": {
     "end_time": "2025-10-17T17:48:14.954793Z",
     "start_time": "2025-10-17T17:48:14.953099Z"
    }
   },
   "source": [
    "DATA = 'both'  # 'image', 'fft', 'both'"
   ],
   "outputs": [],
   "execution_count": 7
  },
  {
   "cell_type": "markdown",
   "id": "4191ed76648104f4",
   "metadata": {
    "collapsed": false,
    "jupyter": {
     "outputs_hidden": false
    }
   },
   "source": [
    "Make 2-d FFT of the images"
   ]
  },
  {
   "cell_type": "code",
   "id": "1f5a8d5f85d1471f",
   "metadata": {
    "jupyter": {
     "outputs_hidden": false
    },
    "ExecuteTime": {
     "end_time": "2025-10-17T17:48:16.021197Z",
     "start_time": "2025-10-17T17:48:14.965788Z"
    }
   },
   "source": [
    "# Make 2-d FFT of the images\n",
    "data_fft = np.fft.fft2(images)\n",
    "# Get power spectrum\n",
    "power_spectrum = np.square(np.abs(data_fft))\n",
    "# Normalize the power spectrum by zero frequency\n",
    "power_spectrum = power_spectrum / power_spectrum[:, 0, 0][:, None, None]"
   ],
   "outputs": [],
   "execution_count": 8
  },
  {
   "cell_type": "markdown",
   "id": "85c46dc73efbf661",
   "metadata": {
    "collapsed": false,
    "jupyter": {
     "outputs_hidden": false
    }
   },
   "source": [
    "Plot some examples of power spectrum"
   ]
  },
  {
   "cell_type": "code",
   "id": "c4247275995f49b4",
   "metadata": {
    "jupyter": {
     "outputs_hidden": false
    },
    "ExecuteTime": {
     "end_time": "2025-10-17T17:48:16.226733Z",
     "start_time": "2025-10-17T17:48:16.036445Z"
    }
   },
   "source": [
    "fig, ax = plt.subplots(2, 5, figsize=(10, 5))\n",
    "for i in range(10):\n",
    "    ax[i // 5, i % 5].imshow(np.log(power_spectrum[digits == i][0]), cmap='gray')\n",
    "    ax[i // 5, i % 5].set_title(f'Digit {i}')\n",
    "    ax[i // 5, i % 5].axis('off')"
   ],
   "outputs": [
    {
     "data": {
      "text/plain": [
       "<Figure size 1000x500 with 10 Axes>"
      ],
      "image/png": "[encoded data removed]"
     },
     "metadata": {},
     "output_type": "display_data",
     "jetTransient": {
      "display_id": null
     }
    }
   ],
   "execution_count": 9
  },
  {
   "cell_type": "markdown",
   "id": "d609b5f5c58c34a2",
   "metadata": {
    "collapsed": false,
    "jupyter": {
     "outputs_hidden": false
    }
   },
   "source": [
    "Concatenate images and power spectrum"
   ]
  },
  {
   "cell_type": "code",
   "id": "c69336311bdfd4ac",
   "metadata": {
    "jupyter": {
     "outputs_hidden": false
    },
    "ExecuteTime": {
     "end_time": "2025-10-17T17:48:16.309968Z",
     "start_time": "2025-10-17T17:48:16.231021Z"
    }
   },
   "source": [
    "if DATA == 'image':\n",
    "    final = np.asarray(images, dtype=np.float32)\n",
    "elif DATA == 'fft':\n",
    "    final = np.asarray(power_spectrum.reshape(-1, 28 * 28), dtype=np.float32)\n",
    "elif DATA == 'both':\n",
    "    final = np.concatenate([images.reshape(-1, 28 * 28), power_spectrum.reshape(-1, 28 * 28)], axis=1)\n",
    "else:\n",
    "    raise ValueError(f\"Unknown value for DATA: {DATA}\")"
   ],
   "outputs": [],
   "execution_count": 10
  },
  {
   "cell_type": "markdown",
   "id": "4b3583c32f326df1",
   "metadata": {
    "collapsed": false,
    "jupyter": {
     "outputs_hidden": false
    }
   },
   "source": [
    "## Classic anomaly detection with Isolation forest"
   ]
  },
  {
   "cell_type": "code",
   "id": "95e784345188fd25",
   "metadata": {
    "jupyter": {
     "outputs_hidden": false
    },
    "ExecuteTime": {
     "end_time": "2025-10-17T17:48:18.027918Z",
     "start_time": "2025-10-17T17:48:16.314075Z"
    }
   },
   "source": [
    "model = IsolationForest(random_seed=10, n_trees=1000)\n",
    "model.fit(np.array(final))\n",
    "scores = model.score_samples(np.array(final))\n",
    "ordered_index = np.argsort(scores)\n",
    "ordered_digits = digits[ordered_index]\n",
    "\n",
    "print(f\"Top 10 weirdest digits : {ordered_digits[:10]}\")\n",
    "print(f\"Top 10 most normal digits : {ordered_digits[-10:]}\")"
   ],
   "outputs": [
    {
     "name": "stdout",
     "output_type": "stream",
     "text": [
      "Top 10 weirdest digits : [6 5 5 5 3 7 5 5 9 5]\n",
      "Top 10 most normal digits : [1 1 1 1 1 1 1 1 1 1]\n"
     ]
    }
   ],
   "execution_count": 11
  },
  {
   "cell_type": "markdown",
   "id": "c174654444043443",
   "metadata": {
    "collapsed": false,
    "jupyter": {
     "outputs_hidden": false
    }
   },
   "source": [
    "Plot the top 10 weirdest digits and the top 10 most normal digits"
   ]
  },
  {
   "cell_type": "code",
   "id": "6cfdf217fc3b5644",
   "metadata": {
    "jupyter": {
     "outputs_hidden": false
    },
    "ExecuteTime": {
     "end_time": "2025-10-17T17:48:18.313250Z",
     "start_time": "2025-10-17T17:48:18.048392Z"
    }
   },
   "source": [
    "fig, ax = plt.subplots(2, 10, figsize=(20, 5))\n",
    "for i in range(10):\n",
    "    ax[0, i].imshow(images[ordered_index[i]], cmap='gray')\n",
    "    ax[0, i].set_title(f'Digit {ordered_digits[i]}')\n",
    "    ax[0, i].axis('off')\n",
    "    ax[1, i].imshow(images[ordered_index[-i - 1]], cmap='gray')\n",
    "    ax[1, i].set_title(f'Digit {ordered_digits[-i - 1]}')\n",
    "    ax[1, i].axis('off')\n",
    "fig.text(0.1, 0.9, 'Top 10 weirdest digits', ha='left', va='center', fontsize=16)\n",
    "fig.text(0.1, 0.5, 'Top 10 most normal digits', ha='left', va='center', fontsize=16)"
   ],
   "outputs": [
    {
     "data": {
      "text/plain": [
       "Text(0.1, 0.5, 'Top 10 most normal digits')"
      ]
     },
     "execution_count": 12,
     "metadata": {},
     "output_type": "execute_result"
    },
    {
     "data": {
      "text/plain": [
       "<Figure size 2000x500 with 20 Axes>"
      ],
      "image/png": "[encoded data removed]"
     },
     "metadata": {},
     "output_type": "display_data",
     "jetTransient": {
      "display_id": null
     }
    }
   ],
   "execution_count": 12
  },
  {
   "cell_type": "markdown",
   "id": "ac58e1636a9766c",
   "metadata": {
    "collapsed": false,
    "jupyter": {
     "outputs_hidden": false
    }
   },
   "source": [
    "## Anomaly detection with PineForest"
   ]
  },
  {
   "cell_type": "markdown",
   "id": "23c4c537793d1bc",
   "metadata": {
    "collapsed": false,
    "jupyter": {
     "outputs_hidden": false
    }
   },
   "source": [
    "Set expert budget"
   ]
  },
  {
   "cell_type": "code",
   "id": "d5dbc9fb2aa6fc4c",
   "metadata": {
    "jupyter": {
     "outputs_hidden": false
    },
    "ExecuteTime": {
     "end_time": "2025-10-17T17:48:18.320113Z",
     "start_time": "2025-10-17T17:48:18.318311Z"
    }
   },
   "source": [
    "EXPERT_BUDGET = 20"
   ],
   "outputs": [],
   "execution_count": 13
  },
  {
   "cell_type": "markdown",
   "id": "6b86dff439131013",
   "metadata": {
    "collapsed": false,
    "jupyter": {
     "outputs_hidden": false
    }
   },
   "source": [
    "First, we need a function which would show us an image, its label and ask us if it is an anomaly.\n",
    "\n",
    "Let's say that even numbers are anomalies"
   ]
  },
  {
   "cell_type": "code",
   "id": "d9f10fbe6aa4bc1a",
   "metadata": {
    "jupyter": {
     "outputs_hidden": false
    },
    "ExecuteTime": {
     "end_time": "2025-10-17T17:48:18.333636Z",
     "start_time": "2025-10-17T17:48:18.331279Z"
    }
   },
   "source": [
    "def decision(index, x, session):\n",
    "    digit, image = digits[index], images[index]\n",
    "    fig, ax = plt.subplots(1, 1, figsize=(2, 2))\n",
    "    ax.imshow(image, cmap='gray')\n",
    "    ax.set_title(f'Digit {digit}')\n",
    "    ax.axis('off')\n",
    "    plt.show()\n",
    "\n",
    "    ### UNCOMMENT TO MAKE IT INTERACTIVE\n",
    "    # return prompt_decision_callback(index, x, session)\n",
    "\n",
    "    # Non-interactive\n",
    "    return Label.ANOMALY if digit % 2 == 0 else Label.REGULAR"
   ],
   "outputs": [],
   "execution_count": 14
  },
  {
   "cell_type": "markdown",
   "id": "dc07693999b58c31",
   "metadata": {
    "collapsed": false,
    "jupyter": {
     "outputs_hidden": false
    }
   },
   "source": [
    "Create a model and a session."
   ]
  },
  {
   "cell_type": "code",
   "id": "fe34d7b027260913",
   "metadata": {
    "jupyter": {
     "outputs_hidden": false
    },
    "ExecuteTime": {
     "end_time": "2025-10-17T17:48:37.007059Z",
     "start_time": "2025-10-17T17:48:18.336766Z"
    }
   },
   "source": [
    "model = PineForest(\n",
    "    # Number of trees to use for predictions\n",
    "    n_trees=256,\n",
    "    # Number of new tree to grow for each decision\n",
    "    n_spare_trees=768,\n",
    "    # Fix random seed for reproducibility\n",
    "    random_seed=0,\n",
    ")\n",
    "session = Session(\n",
    "    data=final,\n",
    "    metadata=np.arange(len(final)),\n",
    "    model=model,\n",
    "    decision_callback=decision,\n",
    "    on_decision_callbacks=[\n",
    "        TerminateAfter(EXPERT_BUDGET),\n",
    "    ],\n",
    ")\n",
    "session.run()"
   ],
   "outputs": [
    {
     "data": {
      "text/plain": [
       "<Figure size 200x200 with 1 Axes>"
      ],
      "image/png": "[encoded data removed]"
     },
     "metadata": {},
     "output_type": "display_data",
     "jetTransient": {
      "display_id": null
     }
    },
    {
     "data": {
      "text/plain": [
       "<Figure size 200x200 with 1 Axes>"
      ],
      "image/png": "[encoded data removed]"
     },
     "metadata": {},
     "output_type": "display_data",
     "jetTransient": {
      "display_id": null
     }
    },
    {
     "data": {
      "text/plain": [
       "<Figure size 200x200 with 1 Axes>"
      ],
      "image/png": "[encoded data removed]"
     },
     "metadata": {},
     "output_type": "display_data",
     "jetTransient": {
      "display_id": null
     }
    },
    {
     "data": {
      "text/plain": [
       "<Figure size 200x200 with 1 Axes>"
      ],
      "image/png": "[encoded data removed]"
     },
     "metadata": {},
     "output_type": "display_data",
     "jetTransient": {
      "display_id": null
     }
    },
    {
     "data": {
      "text/plain": [
       "<Figure size 200x200 with 1 Axes>"
      ],
      "image/png": "[encoded data removed]"
     },
     "metadata": {},
     "output_type": "display_data",
     "jetTransient": {
      "display_id": null
     }
    },
    {
     "data": {
      "text/plain": [
       "<Figure size 200x200 with 1 Axes>"
      ],
      "image/png": "[encoded data removed]"
     },
     "metadata": {},
     "output_type": "display_data",
     "jetTransient": {
      "display_id": null
     }
    },
    {
     "data": {
      "text/plain": [
       "<Figure size 200x200 with 1 Axes>"
      ],
      "image/png": "[encoded data removed]"
     },
     "metadata": {},
     "output_type": "display_data",
     "jetTransient": {
      "display_id": null
     }
    },
    {
     "data": {
      "text/plain": [
       "<Figure size 200x200 with 1 Axes>"
      ],
      "image/png": "[encoded data removed]"
     },
     "metadata": {},
     "output_type": "display_data",
     "jetTransient": {
      "display_id": null
     }
    },
    {
     "data": {
      "text/plain": [
       "<Figure size 200x200 with 1 Axes>"
      ],
      "image/png": "[encoded data removed]"
     },
     "metadata": {},
     "output_type": "display_data",
     "jetTransient": {
      "display_id": null
     }
    },
    {
     "data": {
      "text/plain": [
       "<Figure size 200x200 with 1 Axes>"
      ],
      "image/png": "[encoded data removed]"
     },
     "metadata": {},
     "output_type": "display_data",
     "jetTransient": {
      "display_id": null
     }
    },
    {
     "data": {
      "text/plain": [
       "<Figure size 200x200 with 1 Axes>"
      ],
      "image/png": "[encoded data removed]"
     },
     "metadata": {},
     "output_type": "display_data",
     "jetTransient": {
      "display_id": null
     }
    },
    {
     "data": {
      "text/plain": [
       "<Figure size 200x200 with 1 Axes>"
      ],
      "image/png": "[encoded data removed]"
     },
     "metadata": {},
     "output_type": "display_data",
     "jetTransient": {
      "display_id": null
     }
    },
    {
     "data": {
      "text/plain": [
       "<Figure size 200x200 with 1 Axes>"
      ],
      "image/png": "[encoded data removed]"
     },
     "metadata": {},
     "output_type": "display_data",
     "jetTransient": {
      "display_id": null
     }
    },
    {
     "data": {
      "text/plain": [
       "<Figure size 200x200 with 1 Axes>"
      ],
      "image/png": "[encoded data removed]"
     },
     "metadata": {},
     "output_type": "display_data",
     "jetTransient": {
      "display_id": null
     }
    },
    {
     "data": {
      "text/plain": [
       "<Figure size 200x200 with 1 Axes>"
      ],
      "image/png": "[encoded data removed]"
     },
     "metadata": {},
     "output_type": "display_data",
     "jetTransient": {
      "display_id": null
     }
    },
    {
     "data": {
      "text/plain": [
       "<Figure size 200x200 with 1 Axes>"
      ],
      "image/png": "[encoded data removed]"
     },
     "metadata": {},
     "output_type": "display_data",
     "jetTransient": {
      "display_id": null
     }
    },
    {
     "data": {
      "text/plain": [
       "<Figure size 200x200 with 1 Axes>"
      ],
      "image/png": "[encoded data removed]"
     },
     "metadata": {},
     "output_type": "display_data",
     "jetTransient": {
      "display_id": null
     }
    },
    {
     "data": {
      "text/plain": [
       "<Figure size 200x200 with 1 Axes>"
      ],
      "image/png": "[encoded data removed]"
     },
     "metadata": {},
     "output_type": "display_data",
     "jetTransient": {
      "display_id": null
     }
    },
    {
     "data": {
      "text/plain": [
       "<Figure size 200x200 with 1 Axes>"
      ],
      "image/png": "[encoded data removed]"
     },
     "metadata": {},
     "output_type": "display_data",
     "jetTransient": {
      "display_id": null
     }
    },
    {
     "data": {
      "text/plain": [
       "<Figure size 200x200 with 1 Axes>"
      ],
      "image/png": "[encoded data removed]"
     },
     "metadata": {},
     "output_type": "display_data",
     "jetTransient": {
      "display_id": null
     }
    },
    {
     "data": {
      "text/plain": [
       "<coniferest.session.Session at 0x11a4ccdd0>"
      ]
     },
     "execution_count": 15,
     "metadata": {},
     "output_type": "execute_result"
    }
   ],
   "execution_count": 15
  },
  {
   "cell_type": "markdown",
   "id": "539178364d28e40c",
   "metadata": {
    "collapsed": false,
    "jupyter": {
     "outputs_hidden": false
    }
   },
   "source": [
    "Let's see what we have selected"
   ]
  },
  {
   "cell_type": "code",
   "id": "56539dba0a35fd1c",
   "metadata": {
    "jupyter": {
     "outputs_hidden": false
    },
    "ExecuteTime": {
     "end_time": "2025-10-17T17:48:37.015949Z",
     "start_time": "2025-10-17T17:48:37.013513Z"
    }
   },
   "source": [
    "n_anomalies = len(session.known_anomalies)\n",
    "n_total = len(session.known_labels)\n",
    "print(f\"Anomalies: {n_anomalies}/{n_total} ({n_anomalies / n_total:.2%})\")"
   ],
   "outputs": [
    {
     "name": "stdout",
     "output_type": "stream",
     "text": [
      "Anomalies: 10/20 (50.00%)\n"
     ]
    }
   ],
   "execution_count": 16
  },
  {
   "cell_type": "markdown",
   "id": "689b590a41bd81c3",
   "metadata": {
    "collapsed": false,
    "jupyter": {
     "outputs_hidden": false
    }
   },
   "source": [
    "Let's do the opposite: odd numbers are anomalies"
   ]
  },
  {
   "cell_type": "code",
   "id": "e4b90bf3afaa6c52",
   "metadata": {
    "jupyter": {
     "outputs_hidden": false
    },
    "ExecuteTime": {
     "end_time": "2025-10-17T17:48:54.741139Z",
     "start_time": "2025-10-17T17:48:37.023736Z"
    }
   },
   "source": [
    "def decision(index, x, session):\n",
    "    digit, image = digits[index], images[index]\n",
    "    fig, ax = plt.subplots(1, 1, figsize=(2, 2))\n",
    "    ax.imshow(image, cmap='gray')\n",
    "    ax.set_title(f'Digit {digit}')\n",
    "    ax.axis('off')\n",
    "    plt.show()\n",
    "\n",
    "    ### UNCOMMENT TO MAKE IT INTERACTIVE\n",
    "    # return prompt_decision_callback(index, x, session)\n",
    "\n",
    "    # Non-interactive\n",
    "    return Label.ANOMALY if digit % 2 == 1 else Label.REGULAR\n",
    "\n",
    "\n",
    "model = PineForest(\n",
    "    # Number of trees to use for predictions\n",
    "    n_trees=256,\n",
    "    # Number of new tree to grow for each decision\n",
    "    n_spare_trees=768,\n",
    "    # Fix random seed for reproducibility\n",
    "    random_seed=0,\n",
    ")\n",
    "session = Session(\n",
    "    data=final,\n",
    "    metadata=np.arange(len(final)),\n",
    "    model=model,\n",
    "    decision_callback=decision,\n",
    "    on_decision_callbacks=[\n",
    "        TerminateAfter(EXPERT_BUDGET),\n",
    "    ],\n",
    ")\n",
    "session.run()\n",
    "\n",
    "n_anomalies = len(session.known_anomalies)\n",
    "n_total = len(session.known_labels)\n",
    "print(f\"Anomalies: {n_anomalies}/{n_total} ({n_anomalies / n_total:.2%})\")"
   ],
   "outputs": [
    {
     "data": {
      "text/plain": [
       "<Figure size 200x200 with 1 Axes>"
      ],
      "image/png": "[encoded data removed]"
     },
     "metadata": {},
     "output_type": "display_data",
     "jetTransient": {
      "display_id": null
     }
    },
    {
     "data": {
      "text/plain": [
       "<Figure size 200x200 with 1 Axes>"
      ],
      "image/png": "[encoded data removed]"
     },
     "metadata": {},
     "output_type": "display_data",
     "jetTransient": {
      "display_id": null
     }
    },
    {
     "data": {
      "text/plain": [
       "<Figure size 200x200 with 1 Axes>"
      ],
      "image/png": "[encoded data removed]"
     },
     "metadata": {},
     "output_type": "display_data",
     "jetTransient": {
      "display_id": null
     }
    },
    {
     "data": {
      "text/plain": [
       "<Figure size 200x200 with 1 Axes>"
      ],
      "image/png": "[encoded data removed]"
     },
     "metadata": {},
     "output_type": "display_data",
     "jetTransient": {
      "display_id": null
     }
    },
    {
     "data": {
      "text/plain": [
       "<Figure size 200x200 with 1 Axes>"
      ],
      "image/png": "[encoded data removed]"
     },
     "metadata": {},
     "output_type": "display_data",
     "jetTransient": {
      "display_id": null
     }
    },
    {
     "data": {
      "text/plain": [
       "<Figure size 200x200 with 1 Axes>"
      ],
      "image/png": "[encoded data removed]"
     },
     "metadata": {},
     "output_type": "display_data",
     "jetTransient": {
      "display_id": null
     }
    },
    {
     "data": {
      "text/plain": [
       "<Figure size 200x200 with 1 Axes>"
      ],
      "image/png": "[encoded data removed]"
     },
     "metadata": {},
     "output_type": "display_data",
     "jetTransient": {
      "display_id": null
     }
    },
    {
     "data": {
      "text/plain": [
       "<Figure size 200x200 with 1 Axes>"
      ],
      "image/png": "[encoded data removed]"
     },
     "metadata": {},
     "output_type": "display_data",
     "jetTransient": {
      "display_id": null
     }
    },
    {
     "data": {
      "text/plain": [
       "<Figure size 200x200 with 1 Axes>"
      ],
      "image/png": "[encoded data removed]"
     },
     "metadata": {},
     "output_type": "display_data",
     "jetTransient": {
      "display_id": null
     }
    },
    {
     "data": {
      "text/plain": [
       "<Figure size 200x200 with 1 Axes>"
      ],
      "image/png": "[encoded data removed]"
     },
     "metadata": {},
     "output_type": "display_data",
     "jetTransient": {
      "display_id": null
     }
    },
    {
     "data": {
      "text/plain": [
       "<Figure size 200x200 with 1 Axes>"
      ],
      "image/png": "[encoded data removed]"
     },
     "metadata": {},
     "output_type": "display_data",
     "jetTransient": {
      "display_id": null
     }
    },
    {
     "data": {
      "text/plain": [
       "<Figure size 200x200 with 1 Axes>"
      ],
      "image/png": "[encoded data removed]"
     },
     "metadata": {},
     "output_type": "display_data",
     "jetTransient": {
      "display_id": null
     }
    },
    {
     "data": {
      "text/plain": [
       "<Figure size 200x200 with 1 Axes>"
      ],
      "image/png": "[encoded data removed]"
     },
     "metadata": {},
     "output_type": "display_data",
     "jetTransient": {
      "display_id": null
     }
    },
    {
     "data": {
      "text/plain": [
       "<Figure size 200x200 with 1 Axes>"
      ],
      "image/png": "[encoded data removed]"
     },
     "metadata": {},
     "output_type": "display_data",
     "jetTransient": {
      "display_id": null
     }
    },
    {
     "data": {
      "text/plain": [
       "<Figure size 200x200 with 1 Axes>"
      ],
      "image/png": "[encoded data removed]"
     },
     "metadata": {},
     "output_type": "display_data",
     "jetTransient": {
      "display_id": null
     }
    },
    {
     "data": {
      "text/plain": [
       "<Figure size 200x200 with 1 Axes>"
      ],
      "image/png": "[encoded data removed]"
     },
     "metadata": {},
     "output_type": "display_data",
     "jetTransient": {
      "display_id": null
     }
    },
    {
     "data": {
      "text/plain": [
       "<Figure size 200x200 with 1 Axes>"
      ],
      "image/png": "[encoded data removed]"
     },
     "metadata": {},
     "output_type": "display_data",
     "jetTransient": {
      "display_id": null
     }
    },
    {
     "data": {
      "text/plain": [
       "<Figure size 200x200 with 1 Axes>"
      ],
      "image/png": "[encoded data removed]"
     },
     "metadata": {},
     "output_type": "display_data",
     "jetTransient": {
      "display_id": null
     }
    },
    {
     "data": {
      "text/plain": [
       "<Figure size 200x200 with 1 Axes>"
      ],
      "image/png": "[encoded data removed]"
     },
     "metadata": {},
     "output_type": "display_data",
     "jetTransient": {
      "display_id": null
     }
    },
    {
     "data": {
      "text/plain": [
       "<Figure size 200x200 with 1 Axes>"
      ],
      "image/png": "[encoded data removed]"
     },
     "metadata": {},
     "output_type": "display_data",
     "jetTransient": {
      "display_id": null
     }
    },
    {
     "name": "stdout",
     "output_type": "stream",
     "text": [
      "Anomalies: 19/20 (95.00%)\n"
     ]
    }
   ],
   "execution_count": 17
  },
  {
   "cell_type": "markdown",
   "id": "6160aeb6-22c6-428a-a94e-545295fe3e69",
   "metadata": {
    "collapsed": false,
    "jupyter": {
     "outputs_hidden": false
    }
   },
   "source": [
    "Change `decision` function to make it interactive and try your own experiments. For example, say yes to weird sevens only"
   ]
  }
 ],
 "metadata": {
  "kernelspec": {
   "display_name": "Python 3 (ipykernel)",
   "language": "python",
   "name": "python3"
  },
  "language_info": {
   "codemirror_mode": {
    "name": "ipython",
    "version": 3
   },
   "file_extension": ".py",
   "mimetype": "text/x-python",
   "name": "python",
   "nbconvert_exporter": "python",
   "pygments_lexer": "ipython3",
   "version": "3.11.8"
  }
 },
 "nbformat": 4,
 "nbformat_minor": 5
}
