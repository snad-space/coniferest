{
 "cells": [
  {
   "cell_type": "code",
   "execution_count": 1,
   "id": "ea4ae65a-d555-4b54-96f9-11eed006adc2",
   "metadata": {},
   "outputs": [],
   "source": "# %pip install coniferest"
  },
  {
   "cell_type": "code",
   "id": "3d9577061e9494ed",
   "metadata": {
    "collapsed": false,
    "jupyter": {
     "outputs_hidden": false
    },
    "ExecuteTime": {
     "end_time": "2025-07-03T15:29:14.711984Z",
     "start_time": "2025-07-03T15:29:13.632289Z"
    }
   },
   "source": [
    "from collections import defaultdict\n",
    "\n",
    "import matplotlib.pyplot as plt\n",
    "import numpy as np\n",
    "from tqdm import tqdm\n",
    "\n",
    "from coniferest.aadforest import AADForest\n",
    "from coniferest.datasets import Dataset, DevNetDataset\n",
    "from coniferest.isoforest import IsolationForest\n",
    "from coniferest.label import Label\n",
    "from coniferest.pineforest import PineForest\n",
    "from coniferest.session.oracle import OracleSession, create_oracle_session"
   ],
   "outputs": [],
   "execution_count": 1
  },
  {
   "cell_type": "code",
   "id": "initial_id",
   "metadata": {
    "ExecuteTime": {
     "end_time": "2025-07-03T15:29:15.712748Z",
     "start_time": "2025-07-03T15:29:15.707980Z"
    }
   },
   "source": [
    "class Compare:\n",
    "    models = {\n",
    "        'Isolation Forest': IsolationForest,\n",
    "        'AAD': AADForest,\n",
    "        'Pine Forest': PineForest,\n",
    "    }\n",
    "\n",
    "    def __init__(self, dataset: Dataset, *, iterations=100, n_jobs=-1):\n",
    "        self.model_kwargs = {\n",
    "            'n_trees': 128,\n",
    "            'n_jobs': n_jobs,\n",
    "        }\n",
    "        self.session_kwargs = {\n",
    "            'data': dataset.data,\n",
    "            'labels': dataset.labels,\n",
    "            'max_iterations': iterations,\n",
    "        }\n",
    "        self.results = {}\n",
    "        self.steps = np.arange(1, iterations + 1)\n",
    "        self.total_anomaly_fraction = np.mean(dataset.labels == Label.A)\n",
    "\n",
    "    def get_sessions(self, random_seed):\n",
    "        model_kwargs = self.model_kwargs | {'random_seed': random_seed}\n",
    "\n",
    "        return {\n",
    "            name: create_oracle_session(model=model(**model_kwargs), **self.session_kwargs)\n",
    "            for name, model in self.models.items()\n",
    "        }\n",
    "\n",
    "    def run(self, random_seeds):\n",
    "        results = defaultdict(dict)\n",
    "\n",
    "        for random_seed in tqdm(random_seeds):\n",
    "            sessions = self.get_sessions(random_seed)\n",
    "            for name, session in sessions.items():\n",
    "                session.run()\n",
    "                anomalies = np.cumsum(np.array(list(session.known_labels.values())) == Label.A)\n",
    "                results[name][random_seed] = anomalies\n",
    "\n",
    "        self.results |= results\n",
    "        return self\n",
    "\n",
    "    def plot(self, dataset_name: str, savefig=False):\n",
    "        plt.figure(figsize=(8, 6))\n",
    "        plt.title(f'Dataset: {dataset_name}')\n",
    "\n",
    "        for name, anomalies_dict in self.results.items():\n",
    "            anomalies = np.stack(list(anomalies_dict.values()))\n",
    "            q5, median, q95 = np.quantile(anomalies, [0.05, 0.5, 0.95], axis=0)\n",
    "\n",
    "            plt.plot(self.steps, median, alpha=0.75, label=name)\n",
    "            plt.fill_between(self.steps, q5, q95, alpha=0.5)\n",
    "\n",
    "        plt.plot(self.steps, self.steps * self.total_anomaly_fraction, ls='--', color='grey',\n",
    "                 label='Theoretical random')\n",
    "\n",
    "        plt.xlabel('Iteration')\n",
    "        plt.ylabel('Number of anomalies')\n",
    "        plt.grid()\n",
    "        plt.legend()\n",
    "        if savefig:\n",
    "            plt.savefig(f'{dataset}.pdf')\n",
    "\n",
    "        return self"
   ],
   "outputs": [],
   "execution_count": 2
  },
  {
   "cell_type": "code",
   "id": "71c337b3577915d5",
   "metadata": {
    "collapsed": false,
    "jupyter": {
     "outputs_hidden": false
    },
    "ExecuteTime": {
     "end_time": "2025-07-03T15:35:53.300312Z",
     "start_time": "2025-07-03T15:34:16.696646Z"
    }
   },
   "source": [
    "print(DevNetDataset.avialble_datasets)\n",
    "\n",
    "seeds = range(200)\n",
    "\n",
    "for dataset in DevNetDataset.avialble_datasets:\n",
    "    print(dataset)\n",
    "    %time compare = Compare(DevNetDataset(dataset), iterations=100, n_jobs=-1).run(seeds).plot(dataset, savefig=True)\n",
    "    plt.show()"
   ],
   "outputs": [
    {
     "name": "stdout",
     "output_type": "stream",
     "text": [
      "['donors', 'census', 'fraud', 'celeba', 'backdoor', 'campaign', 'thyroid']\n",
      "donors\n"
     ]
    },
    {
     "name": "stderr",
     "output_type": "stream",
     "text": [
      "  0%|          | 0/200 [01:35<?, ?it/s]\n"
     ]
    },
    {
     "ename": "KeyboardInterrupt",
     "evalue": "",
     "output_type": "error",
     "traceback": [
      "\u001B[31m---------------------------------------------------------------------------\u001B[39m",
      "\u001B[31mKeyboardInterrupt\u001B[39m                         Traceback (most recent call last)",
      "\u001B[36mCell\u001B[39m\u001B[36m \u001B[39m\u001B[32mIn[5]\u001B[39m\u001B[32m, line 7\u001B[39m\n\u001B[32m      5\u001B[39m \u001B[38;5;28;01mfor\u001B[39;00m dataset \u001B[38;5;129;01min\u001B[39;00m DevNetDataset.avialble_datasets:\n\u001B[32m      6\u001B[39m     \u001B[38;5;28mprint\u001B[39m(dataset)\n\u001B[32m----> \u001B[39m\u001B[32m7\u001B[39m     \u001B[43mget_ipython\u001B[49m\u001B[43m(\u001B[49m\u001B[43m)\u001B[49m\u001B[43m.\u001B[49m\u001B[43mrun_line_magic\u001B[49m\u001B[43m(\u001B[49m\u001B[33;43m'\u001B[39;49m\u001B[33;43mtime\u001B[39;49m\u001B[33;43m'\u001B[39;49m\u001B[43m,\u001B[49m\u001B[43m \u001B[49m\u001B[33;43m'\u001B[39;49m\u001B[33;43mcompare = Compare(DevNetDataset(dataset), iterations=100, n_jobs=-1).run(seeds).plot(dataset, savefig=True)\u001B[39;49m\u001B[33;43m'\u001B[39;49m\u001B[43m)\u001B[49m\n\u001B[32m      8\u001B[39m     plt.show()\n",
      "\u001B[36mFile \u001B[39m\u001B[32m~/.virtualenvs/coniferest/lib/python3.12/site-packages/IPython/core/interactiveshell.py:2488\u001B[39m, in \u001B[36mInteractiveShell.run_line_magic\u001B[39m\u001B[34m(self, magic_name, line, _stack_depth)\u001B[39m\n\u001B[32m   2486\u001B[39m     kwargs[\u001B[33m'\u001B[39m\u001B[33mlocal_ns\u001B[39m\u001B[33m'\u001B[39m] = \u001B[38;5;28mself\u001B[39m.get_local_scope(stack_depth)\n\u001B[32m   2487\u001B[39m \u001B[38;5;28;01mwith\u001B[39;00m \u001B[38;5;28mself\u001B[39m.builtin_trap:\n\u001B[32m-> \u001B[39m\u001B[32m2488\u001B[39m     result = \u001B[43mfn\u001B[49m\u001B[43m(\u001B[49m\u001B[43m*\u001B[49m\u001B[43margs\u001B[49m\u001B[43m,\u001B[49m\u001B[43m \u001B[49m\u001B[43m*\u001B[49m\u001B[43m*\u001B[49m\u001B[43mkwargs\u001B[49m\u001B[43m)\u001B[49m\n\u001B[32m   2490\u001B[39m \u001B[38;5;66;03m# The code below prevents the output from being displayed\u001B[39;00m\n\u001B[32m   2491\u001B[39m \u001B[38;5;66;03m# when using magics with decorator @output_can_be_silenced\u001B[39;00m\n\u001B[32m   2492\u001B[39m \u001B[38;5;66;03m# when the last Python token in the expression is a ';'.\u001B[39;00m\n\u001B[32m   2493\u001B[39m \u001B[38;5;28;01mif\u001B[39;00m \u001B[38;5;28mgetattr\u001B[39m(fn, magic.MAGIC_OUTPUT_CAN_BE_SILENCED, \u001B[38;5;28;01mFalse\u001B[39;00m):\n",
      "\u001B[36mFile \u001B[39m\u001B[32m~/.virtualenvs/coniferest/lib/python3.12/site-packages/IPython/core/magics/execution.py:1390\u001B[39m, in \u001B[36mExecutionMagics.time\u001B[39m\u001B[34m(self, line, cell, local_ns)\u001B[39m\n\u001B[32m   1388\u001B[39m st = clock2()\n\u001B[32m   1389\u001B[39m \u001B[38;5;28;01mtry\u001B[39;00m:\n\u001B[32m-> \u001B[39m\u001B[32m1390\u001B[39m     \u001B[43mexec\u001B[49m\u001B[43m(\u001B[49m\u001B[43mcode\u001B[49m\u001B[43m,\u001B[49m\u001B[43m \u001B[49m\u001B[43mglob\u001B[49m\u001B[43m,\u001B[49m\u001B[43m \u001B[49m\u001B[43mlocal_ns\u001B[49m\u001B[43m)\u001B[49m\n\u001B[32m   1391\u001B[39m     out = \u001B[38;5;28;01mNone\u001B[39;00m\n\u001B[32m   1392\u001B[39m     \u001B[38;5;66;03m# multi-line %%time case\u001B[39;00m\n",
      "\u001B[36mFile \u001B[39m\u001B[32m<timed exec>:1\u001B[39m\n",
      "\u001B[36mCell\u001B[39m\u001B[36m \u001B[39m\u001B[32mIn[2]\u001B[39m\u001B[32m, line 36\u001B[39m, in \u001B[36mCompare.run\u001B[39m\u001B[34m(self, random_seeds)\u001B[39m\n\u001B[32m     34\u001B[39m sessions = \u001B[38;5;28mself\u001B[39m.get_sessions(random_seed)\n\u001B[32m     35\u001B[39m \u001B[38;5;28;01mfor\u001B[39;00m name, session \u001B[38;5;129;01min\u001B[39;00m sessions.items():\n\u001B[32m---> \u001B[39m\u001B[32m36\u001B[39m     \u001B[43msession\u001B[49m\u001B[43m.\u001B[49m\u001B[43mrun\u001B[49m\u001B[43m(\u001B[49m\u001B[43m)\u001B[49m\n\u001B[32m     37\u001B[39m     anomalies = np.cumsum(np.array(\u001B[38;5;28mlist\u001B[39m(session.known_labels.values())) == Label.A)\n\u001B[32m     38\u001B[39m     results[name][random_seed] = anomalies\n",
      "\u001B[36mFile \u001B[39m\u001B[32m~/projects/supernovaAD/coniferest/src/coniferest/session/__init__.py:158\u001B[39m, in \u001B[36mSession.run\u001B[39m\u001B[34m(self)\u001B[39m\n\u001B[32m    156\u001B[39m known_data = \u001B[38;5;28mself\u001B[39m._data[\u001B[38;5;28mlist\u001B[39m(\u001B[38;5;28mself\u001B[39m._known_labels.keys())]\n\u001B[32m    157\u001B[39m known_labels = np.fromiter(\u001B[38;5;28mself\u001B[39m._known_labels.values(), dtype=\u001B[38;5;28mint\u001B[39m, count=\u001B[38;5;28mlen\u001B[39m(\u001B[38;5;28mself\u001B[39m._known_labels))\n\u001B[32m--> \u001B[39m\u001B[32m158\u001B[39m \u001B[38;5;28;43mself\u001B[39;49m\u001B[43m.\u001B[49m\u001B[43mmodel\u001B[49m\u001B[43m.\u001B[49m\u001B[43mfit_known\u001B[49m\u001B[43m(\u001B[49m\u001B[38;5;28;43mself\u001B[39;49m\u001B[43m.\u001B[49m\u001B[43m_data\u001B[49m\u001B[43m,\u001B[49m\u001B[43m \u001B[49m\u001B[43mknown_data\u001B[49m\u001B[43m,\u001B[49m\u001B[43m \u001B[49m\u001B[43mknown_labels\u001B[49m\u001B[43m)\u001B[49m\n\u001B[32m    160\u001B[39m \u001B[38;5;28mself\u001B[39m._invoke_callbacks(\u001B[38;5;28mself\u001B[39m._on_refit_cb, \u001B[38;5;28mself\u001B[39m)\n\u001B[32m    162\u001B[39m \u001B[38;5;28mself\u001B[39m._scores = \u001B[38;5;28mself\u001B[39m.model.score_samples(\u001B[38;5;28mself\u001B[39m._data)\n",
      "\u001B[36mFile \u001B[39m\u001B[32m~/projects/supernovaAD/coniferest/src/coniferest/pineforest.py:196\u001B[39m, in \u001B[36mPineForest.fit_known\u001B[39m\u001B[34m(self, data, known_data, known_labels)\u001B[39m\n\u001B[32m    194\u001B[39m     \u001B[38;5;28mself\u001B[39m._expand_trees(data, \u001B[38;5;28mself\u001B[39m.n_trees)\n\u001B[32m    195\u001B[39m \u001B[38;5;28;01melse\u001B[39;00m:\n\u001B[32m--> \u001B[39m\u001B[32m196\u001B[39m     \u001B[38;5;28;43mself\u001B[39;49m\u001B[43m.\u001B[49m\u001B[43m_expand_trees\u001B[49m\u001B[43m(\u001B[49m\u001B[43mdata\u001B[49m\u001B[43m,\u001B[49m\u001B[43m \u001B[49m\u001B[38;5;28;43mself\u001B[39;49m\u001B[43m.\u001B[49m\u001B[43mn_trees\u001B[49m\u001B[43m \u001B[49m\u001B[43m+\u001B[49m\u001B[43m \u001B[49m\u001B[38;5;28;43mself\u001B[39;49m\u001B[43m.\u001B[49m\u001B[43mn_spare_trees\u001B[49m\u001B[43m)\u001B[49m\n\u001B[32m    197\u001B[39m     \u001B[38;5;28mself\u001B[39m._contract_trees(known_data, known_labels, \u001B[38;5;28mself\u001B[39m.n_trees)\n\u001B[32m    199\u001B[39m \u001B[38;5;28mself\u001B[39m.evaluator = ConiferestEvaluator(\u001B[38;5;28mself\u001B[39m)\n",
      "\u001B[36mFile \u001B[39m\u001B[32m~/projects/supernovaAD/coniferest/src/coniferest/pineforest.py:101\u001B[39m, in \u001B[36mPineForest._expand_trees\u001B[39m\u001B[34m(self, data, n_trees)\u001B[39m\n\u001B[32m     99\u001B[39m n = n_trees - \u001B[38;5;28mlen\u001B[39m(\u001B[38;5;28mself\u001B[39m.trees)\n\u001B[32m    100\u001B[39m \u001B[38;5;28;01mif\u001B[39;00m n > \u001B[32m0\u001B[39m:\n\u001B[32m--> \u001B[39m\u001B[32m101\u001B[39m     \u001B[38;5;28mself\u001B[39m.trees.extend(\u001B[38;5;28;43mself\u001B[39;49m\u001B[43m.\u001B[49m\u001B[43mbuild_trees\u001B[49m\u001B[43m(\u001B[49m\u001B[43mdata\u001B[49m\u001B[43m,\u001B[49m\u001B[43m \u001B[49m\u001B[43mn\u001B[49m\u001B[43m)\u001B[49m)\n",
      "\u001B[36mFile \u001B[39m\u001B[32m~/projects/supernovaAD/coniferest/src/coniferest/coniferest.py:117\u001B[39m, in \u001B[36mConiferest.build_trees\u001B[39m\u001B[34m(self, data, n_trees)\u001B[39m\n\u001B[32m    109\u001B[39m     indices = _generate_indices(\n\u001B[32m    110\u001B[39m         random_state=random_state,\n\u001B[32m    111\u001B[39m         bootstrap=\u001B[38;5;28mself\u001B[39m.bootstrap_samples,\n\u001B[32m    112\u001B[39m         n_population=n_population,\n\u001B[32m    113\u001B[39m         n_samples=n_samples,\n\u001B[32m    114\u001B[39m     )\n\u001B[32m    116\u001B[39m     subsamples = data[indices, :]\n\u001B[32m--> \u001B[39m\u001B[32m117\u001B[39m     tree = \u001B[38;5;28;43mself\u001B[39;49m\u001B[43m.\u001B[49m\u001B[43mbuild_one_tree\u001B[49m\u001B[43m(\u001B[49m\u001B[43msubsamples\u001B[49m\u001B[43m)\u001B[49m\n\u001B[32m    118\u001B[39m     trees.append(tree)\n\u001B[32m    120\u001B[39m \u001B[38;5;28;01mreturn\u001B[39;00m trees\n",
      "\u001B[36mFile \u001B[39m\u001B[32m~/projects/supernovaAD/coniferest/src/coniferest/coniferest.py:122\u001B[39m, in \u001B[36mConiferest.build_one_tree\u001B[39m\u001B[34m(self, data)\u001B[39m\n\u001B[32m    118\u001B[39m         trees.append(tree)\n\u001B[32m    120\u001B[39m     \u001B[38;5;28;01mreturn\u001B[39;00m trees\n\u001B[32m--> \u001B[39m\u001B[32m122\u001B[39m \u001B[38;5;28;01mdef\u001B[39;00m\u001B[38;5;250m \u001B[39m\u001B[34mbuild_one_tree\u001B[39m(\u001B[38;5;28mself\u001B[39m, data):\n\u001B[32m    123\u001B[39m \u001B[38;5;250m    \u001B[39m\u001B[33;03m\"\"\"\u001B[39;00m\n\u001B[32m    124\u001B[39m \u001B[33;03m    Build just one tree.\u001B[39;00m\n\u001B[32m    125\u001B[39m \n\u001B[32m   (...)\u001B[39m\u001B[32m    133\u001B[39m \u001B[33;03m    A tree.\u001B[39;00m\n\u001B[32m    134\u001B[39m \u001B[33;03m    \"\"\"\u001B[39;00m\n\u001B[32m    135\u001B[39m     \u001B[38;5;66;03m# Hollow plug\u001B[39;00m\n",
      "\u001B[31mKeyboardInterrupt\u001B[39m: "
     ]
    }
   ],
   "execution_count": 5
  }
 ],
 "metadata": {
  "kernelspec": {
   "display_name": "Python 3 (ipykernel)",
   "language": "python",
   "name": "python3"
  },
  "language_info": {
   "codemirror_mode": {
    "name": "ipython",
    "version": 3
   },
   "file_extension": ".py",
   "mimetype": "text/x-python",
   "name": "python",
   "nbconvert_exporter": "python",
   "pygments_lexer": "ipython3",
   "version": "3.12.3"
  }
 },
 "nbformat": 4,
 "nbformat_minor": 5
}
